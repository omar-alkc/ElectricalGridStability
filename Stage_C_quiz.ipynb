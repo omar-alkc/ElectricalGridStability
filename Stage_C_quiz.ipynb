{
 "cells": [
  {
   "cell_type": "markdown",
   "source": [
    "# Stage C Quiz"
   ],
   "metadata": {
    "collapsed": false
   }
  },
  {
   "cell_type": "markdown",
   "source": [
    "## importing libraries"
   ],
   "metadata": {
    "collapsed": false
   }
  },
  {
   "cell_type": "code",
   "execution_count": 100,
   "metadata": {
    "collapsed": true
   },
   "outputs": [],
   "source": [
    "import pandas as pd\n",
    "\n",
    "from sklearn.metrics import  roc_auc_score, confusion_matrix, roc_curve,f1_score,accuracy_score\n",
    "from sklearn.model_selection import train_test_split,RandomizedSearchCV\n",
    "\n",
    "from sklearn.ensemble import  RandomForestClassifier,ExtraTreesClassifier\n",
    "from xgboost import XGBClassifier\n",
    "from sklearn.preprocessing import StandardScaler\n",
    "from lightgbm import LGBMClassifier\n",
    "from scipy.stats import randint"
   ]
  },
  {
   "cell_type": "code",
   "execution_count": 101,
   "outputs": [],
   "source": [
    "df = pd.read_csv('Data_for_UCI_named.csv')"
   ],
   "metadata": {
    "collapsed": false
   }
  },
  {
   "cell_type": "code",
   "execution_count": 102,
   "outputs": [
    {
     "data": {
      "text/plain": "          tau1      tau2      tau3      tau4        p1        p2        p3  \\\n0     2.959060  3.079885  8.381025  9.780754  3.763085 -0.782604 -1.257395   \n1     9.304097  4.902524  3.047541  1.369357  5.067812 -1.940058 -1.872742   \n2     8.971707  8.848428  3.046479  1.214518  3.405158 -1.207456 -1.277210   \n3     0.716415  7.669600  4.486641  2.340563  3.963791 -1.027473 -1.938944   \n4     3.134112  7.608772  4.943759  9.857573  3.525811 -1.125531 -1.845975   \n...        ...       ...       ...       ...       ...       ...       ...   \n9995  2.930406  9.487627  2.376523  6.187797  3.343416 -0.658054 -1.449106   \n9996  3.392299  1.274827  2.954947  6.894759  4.349512 -1.663661 -0.952437   \n9997  2.364034  2.842030  8.776391  1.008906  4.299976 -1.380719 -0.943884   \n9998  9.631511  3.994398  2.757071  7.821347  2.514755 -0.966330 -0.649915   \n9999  6.530527  6.781790  4.349695  8.673138  3.492807 -1.390285 -1.532193   \n\n            p4        g1        g2        g3        g4      stab     stabf  \n0    -1.723086  0.650456  0.859578  0.887445  0.958034  0.055347  unstable  \n1    -1.255012  0.413441  0.862414  0.562139  0.781760 -0.005957    stable  \n2    -0.920492  0.163041  0.766689  0.839444  0.109853  0.003471  unstable  \n3    -0.997374  0.446209  0.976744  0.929381  0.362718  0.028871  unstable  \n4    -0.554305  0.797110  0.455450  0.656947  0.820923  0.049860  unstable  \n...        ...       ...       ...       ...       ...       ...       ...  \n9995 -1.236256  0.601709  0.779642  0.813512  0.608385  0.023892  unstable  \n9996 -1.733414  0.502079  0.567242  0.285880  0.366120 -0.025803    stable  \n9997 -1.975373  0.487838  0.986505  0.149286  0.145984 -0.031810    stable  \n9998 -0.898510  0.365246  0.587558  0.889118  0.818391  0.037789  unstable  \n9999 -0.570329  0.073056  0.505441  0.378761  0.942631  0.045263  unstable  \n\n[10000 rows x 14 columns]",
      "text/html": "<div>\n<style scoped>\n    .dataframe tbody tr th:only-of-type {\n        vertical-align: middle;\n    }\n\n    .dataframe tbody tr th {\n        vertical-align: top;\n    }\n\n    .dataframe thead th {\n        text-align: right;\n    }\n</style>\n<table border=\"1\" class=\"dataframe\">\n  <thead>\n    <tr style=\"text-align: right;\">\n      <th></th>\n      <th>tau1</th>\n      <th>tau2</th>\n      <th>tau3</th>\n      <th>tau4</th>\n      <th>p1</th>\n      <th>p2</th>\n      <th>p3</th>\n      <th>p4</th>\n      <th>g1</th>\n      <th>g2</th>\n      <th>g3</th>\n      <th>g4</th>\n      <th>stab</th>\n      <th>stabf</th>\n    </tr>\n  </thead>\n  <tbody>\n    <tr>\n      <th>0</th>\n      <td>2.959060</td>\n      <td>3.079885</td>\n      <td>8.381025</td>\n      <td>9.780754</td>\n      <td>3.763085</td>\n      <td>-0.782604</td>\n      <td>-1.257395</td>\n      <td>-1.723086</td>\n      <td>0.650456</td>\n      <td>0.859578</td>\n      <td>0.887445</td>\n      <td>0.958034</td>\n      <td>0.055347</td>\n      <td>unstable</td>\n    </tr>\n    <tr>\n      <th>1</th>\n      <td>9.304097</td>\n      <td>4.902524</td>\n      <td>3.047541</td>\n      <td>1.369357</td>\n      <td>5.067812</td>\n      <td>-1.940058</td>\n      <td>-1.872742</td>\n      <td>-1.255012</td>\n      <td>0.413441</td>\n      <td>0.862414</td>\n      <td>0.562139</td>\n      <td>0.781760</td>\n      <td>-0.005957</td>\n      <td>stable</td>\n    </tr>\n    <tr>\n      <th>2</th>\n      <td>8.971707</td>\n      <td>8.848428</td>\n      <td>3.046479</td>\n      <td>1.214518</td>\n      <td>3.405158</td>\n      <td>-1.207456</td>\n      <td>-1.277210</td>\n      <td>-0.920492</td>\n      <td>0.163041</td>\n      <td>0.766689</td>\n      <td>0.839444</td>\n      <td>0.109853</td>\n      <td>0.003471</td>\n      <td>unstable</td>\n    </tr>\n    <tr>\n      <th>3</th>\n      <td>0.716415</td>\n      <td>7.669600</td>\n      <td>4.486641</td>\n      <td>2.340563</td>\n      <td>3.963791</td>\n      <td>-1.027473</td>\n      <td>-1.938944</td>\n      <td>-0.997374</td>\n      <td>0.446209</td>\n      <td>0.976744</td>\n      <td>0.929381</td>\n      <td>0.362718</td>\n      <td>0.028871</td>\n      <td>unstable</td>\n    </tr>\n    <tr>\n      <th>4</th>\n      <td>3.134112</td>\n      <td>7.608772</td>\n      <td>4.943759</td>\n      <td>9.857573</td>\n      <td>3.525811</td>\n      <td>-1.125531</td>\n      <td>-1.845975</td>\n      <td>-0.554305</td>\n      <td>0.797110</td>\n      <td>0.455450</td>\n      <td>0.656947</td>\n      <td>0.820923</td>\n      <td>0.049860</td>\n      <td>unstable</td>\n    </tr>\n    <tr>\n      <th>...</th>\n      <td>...</td>\n      <td>...</td>\n      <td>...</td>\n      <td>...</td>\n      <td>...</td>\n      <td>...</td>\n      <td>...</td>\n      <td>...</td>\n      <td>...</td>\n      <td>...</td>\n      <td>...</td>\n      <td>...</td>\n      <td>...</td>\n      <td>...</td>\n    </tr>\n    <tr>\n      <th>9995</th>\n      <td>2.930406</td>\n      <td>9.487627</td>\n      <td>2.376523</td>\n      <td>6.187797</td>\n      <td>3.343416</td>\n      <td>-0.658054</td>\n      <td>-1.449106</td>\n      <td>-1.236256</td>\n      <td>0.601709</td>\n      <td>0.779642</td>\n      <td>0.813512</td>\n      <td>0.608385</td>\n      <td>0.023892</td>\n      <td>unstable</td>\n    </tr>\n    <tr>\n      <th>9996</th>\n      <td>3.392299</td>\n      <td>1.274827</td>\n      <td>2.954947</td>\n      <td>6.894759</td>\n      <td>4.349512</td>\n      <td>-1.663661</td>\n      <td>-0.952437</td>\n      <td>-1.733414</td>\n      <td>0.502079</td>\n      <td>0.567242</td>\n      <td>0.285880</td>\n      <td>0.366120</td>\n      <td>-0.025803</td>\n      <td>stable</td>\n    </tr>\n    <tr>\n      <th>9997</th>\n      <td>2.364034</td>\n      <td>2.842030</td>\n      <td>8.776391</td>\n      <td>1.008906</td>\n      <td>4.299976</td>\n      <td>-1.380719</td>\n      <td>-0.943884</td>\n      <td>-1.975373</td>\n      <td>0.487838</td>\n      <td>0.986505</td>\n      <td>0.149286</td>\n      <td>0.145984</td>\n      <td>-0.031810</td>\n      <td>stable</td>\n    </tr>\n    <tr>\n      <th>9998</th>\n      <td>9.631511</td>\n      <td>3.994398</td>\n      <td>2.757071</td>\n      <td>7.821347</td>\n      <td>2.514755</td>\n      <td>-0.966330</td>\n      <td>-0.649915</td>\n      <td>-0.898510</td>\n      <td>0.365246</td>\n      <td>0.587558</td>\n      <td>0.889118</td>\n      <td>0.818391</td>\n      <td>0.037789</td>\n      <td>unstable</td>\n    </tr>\n    <tr>\n      <th>9999</th>\n      <td>6.530527</td>\n      <td>6.781790</td>\n      <td>4.349695</td>\n      <td>8.673138</td>\n      <td>3.492807</td>\n      <td>-1.390285</td>\n      <td>-1.532193</td>\n      <td>-0.570329</td>\n      <td>0.073056</td>\n      <td>0.505441</td>\n      <td>0.378761</td>\n      <td>0.942631</td>\n      <td>0.045263</td>\n      <td>unstable</td>\n    </tr>\n  </tbody>\n</table>\n<p>10000 rows × 14 columns</p>\n</div>"
     },
     "execution_count": 102,
     "metadata": {},
     "output_type": "execute_result"
    }
   ],
   "source": [
    "df"
   ],
   "metadata": {
    "collapsed": false
   }
  },
  {
   "cell_type": "code",
   "execution_count": 103,
   "outputs": [
    {
     "data": {
      "text/plain": "          tau1      tau2      tau3      tau4        p2        p3        p4  \\\n0     2.959060  3.079885  8.381025  9.780754 -0.782604 -1.257395 -1.723086   \n1     9.304097  4.902524  3.047541  1.369357 -1.940058 -1.872742 -1.255012   \n2     8.971707  8.848428  3.046479  1.214518 -1.207456 -1.277210 -0.920492   \n3     0.716415  7.669600  4.486641  2.340563 -1.027473 -1.938944 -0.997374   \n4     3.134112  7.608772  4.943759  9.857573 -1.125531 -1.845975 -0.554305   \n...        ...       ...       ...       ...       ...       ...       ...   \n9995  2.930406  9.487627  2.376523  6.187797 -0.658054 -1.449106 -1.236256   \n9996  3.392299  1.274827  2.954947  6.894759 -1.663661 -0.952437 -1.733414   \n9997  2.364034  2.842030  8.776391  1.008906 -1.380719 -0.943884 -1.975373   \n9998  9.631511  3.994398  2.757071  7.821347 -0.966330 -0.649915 -0.898510   \n9999  6.530527  6.781790  4.349695  8.673138 -1.390285 -1.532193 -0.570329   \n\n            g1        g2        g3        g4      stab     stabf  \n0     0.650456  0.859578  0.887445  0.958034  0.055347  unstable  \n1     0.413441  0.862414  0.562139  0.781760 -0.005957    stable  \n2     0.163041  0.766689  0.839444  0.109853  0.003471  unstable  \n3     0.446209  0.976744  0.929381  0.362718  0.028871  unstable  \n4     0.797110  0.455450  0.656947  0.820923  0.049860  unstable  \n...        ...       ...       ...       ...       ...       ...  \n9995  0.601709  0.779642  0.813512  0.608385  0.023892  unstable  \n9996  0.502079  0.567242  0.285880  0.366120 -0.025803    stable  \n9997  0.487838  0.986505  0.149286  0.145984 -0.031810    stable  \n9998  0.365246  0.587558  0.889118  0.818391  0.037789  unstable  \n9999  0.073056  0.505441  0.378761  0.942631  0.045263  unstable  \n\n[10000 rows x 13 columns]",
      "text/html": "<div>\n<style scoped>\n    .dataframe tbody tr th:only-of-type {\n        vertical-align: middle;\n    }\n\n    .dataframe tbody tr th {\n        vertical-align: top;\n    }\n\n    .dataframe thead th {\n        text-align: right;\n    }\n</style>\n<table border=\"1\" class=\"dataframe\">\n  <thead>\n    <tr style=\"text-align: right;\">\n      <th></th>\n      <th>tau1</th>\n      <th>tau2</th>\n      <th>tau3</th>\n      <th>tau4</th>\n      <th>p2</th>\n      <th>p3</th>\n      <th>p4</th>\n      <th>g1</th>\n      <th>g2</th>\n      <th>g3</th>\n      <th>g4</th>\n      <th>stab</th>\n      <th>stabf</th>\n    </tr>\n  </thead>\n  <tbody>\n    <tr>\n      <th>0</th>\n      <td>2.959060</td>\n      <td>3.079885</td>\n      <td>8.381025</td>\n      <td>9.780754</td>\n      <td>-0.782604</td>\n      <td>-1.257395</td>\n      <td>-1.723086</td>\n      <td>0.650456</td>\n      <td>0.859578</td>\n      <td>0.887445</td>\n      <td>0.958034</td>\n      <td>0.055347</td>\n      <td>unstable</td>\n    </tr>\n    <tr>\n      <th>1</th>\n      <td>9.304097</td>\n      <td>4.902524</td>\n      <td>3.047541</td>\n      <td>1.369357</td>\n      <td>-1.940058</td>\n      <td>-1.872742</td>\n      <td>-1.255012</td>\n      <td>0.413441</td>\n      <td>0.862414</td>\n      <td>0.562139</td>\n      <td>0.781760</td>\n      <td>-0.005957</td>\n      <td>stable</td>\n    </tr>\n    <tr>\n      <th>2</th>\n      <td>8.971707</td>\n      <td>8.848428</td>\n      <td>3.046479</td>\n      <td>1.214518</td>\n      <td>-1.207456</td>\n      <td>-1.277210</td>\n      <td>-0.920492</td>\n      <td>0.163041</td>\n      <td>0.766689</td>\n      <td>0.839444</td>\n      <td>0.109853</td>\n      <td>0.003471</td>\n      <td>unstable</td>\n    </tr>\n    <tr>\n      <th>3</th>\n      <td>0.716415</td>\n      <td>7.669600</td>\n      <td>4.486641</td>\n      <td>2.340563</td>\n      <td>-1.027473</td>\n      <td>-1.938944</td>\n      <td>-0.997374</td>\n      <td>0.446209</td>\n      <td>0.976744</td>\n      <td>0.929381</td>\n      <td>0.362718</td>\n      <td>0.028871</td>\n      <td>unstable</td>\n    </tr>\n    <tr>\n      <th>4</th>\n      <td>3.134112</td>\n      <td>7.608772</td>\n      <td>4.943759</td>\n      <td>9.857573</td>\n      <td>-1.125531</td>\n      <td>-1.845975</td>\n      <td>-0.554305</td>\n      <td>0.797110</td>\n      <td>0.455450</td>\n      <td>0.656947</td>\n      <td>0.820923</td>\n      <td>0.049860</td>\n      <td>unstable</td>\n    </tr>\n    <tr>\n      <th>...</th>\n      <td>...</td>\n      <td>...</td>\n      <td>...</td>\n      <td>...</td>\n      <td>...</td>\n      <td>...</td>\n      <td>...</td>\n      <td>...</td>\n      <td>...</td>\n      <td>...</td>\n      <td>...</td>\n      <td>...</td>\n      <td>...</td>\n    </tr>\n    <tr>\n      <th>9995</th>\n      <td>2.930406</td>\n      <td>9.487627</td>\n      <td>2.376523</td>\n      <td>6.187797</td>\n      <td>-0.658054</td>\n      <td>-1.449106</td>\n      <td>-1.236256</td>\n      <td>0.601709</td>\n      <td>0.779642</td>\n      <td>0.813512</td>\n      <td>0.608385</td>\n      <td>0.023892</td>\n      <td>unstable</td>\n    </tr>\n    <tr>\n      <th>9996</th>\n      <td>3.392299</td>\n      <td>1.274827</td>\n      <td>2.954947</td>\n      <td>6.894759</td>\n      <td>-1.663661</td>\n      <td>-0.952437</td>\n      <td>-1.733414</td>\n      <td>0.502079</td>\n      <td>0.567242</td>\n      <td>0.285880</td>\n      <td>0.366120</td>\n      <td>-0.025803</td>\n      <td>stable</td>\n    </tr>\n    <tr>\n      <th>9997</th>\n      <td>2.364034</td>\n      <td>2.842030</td>\n      <td>8.776391</td>\n      <td>1.008906</td>\n      <td>-1.380719</td>\n      <td>-0.943884</td>\n      <td>-1.975373</td>\n      <td>0.487838</td>\n      <td>0.986505</td>\n      <td>0.149286</td>\n      <td>0.145984</td>\n      <td>-0.031810</td>\n      <td>stable</td>\n    </tr>\n    <tr>\n      <th>9998</th>\n      <td>9.631511</td>\n      <td>3.994398</td>\n      <td>2.757071</td>\n      <td>7.821347</td>\n      <td>-0.966330</td>\n      <td>-0.649915</td>\n      <td>-0.898510</td>\n      <td>0.365246</td>\n      <td>0.587558</td>\n      <td>0.889118</td>\n      <td>0.818391</td>\n      <td>0.037789</td>\n      <td>unstable</td>\n    </tr>\n    <tr>\n      <th>9999</th>\n      <td>6.530527</td>\n      <td>6.781790</td>\n      <td>4.349695</td>\n      <td>8.673138</td>\n      <td>-1.390285</td>\n      <td>-1.532193</td>\n      <td>-0.570329</td>\n      <td>0.073056</td>\n      <td>0.505441</td>\n      <td>0.378761</td>\n      <td>0.942631</td>\n      <td>0.045263</td>\n      <td>unstable</td>\n    </tr>\n  </tbody>\n</table>\n<p>10000 rows × 13 columns</p>\n</div>"
     },
     "execution_count": 103,
     "metadata": {},
     "output_type": "execute_result"
    }
   ],
   "source": [
    "y=df['p1']\n",
    "dic={'stable':1,'unstable':0}\n",
    "\n",
    "x=df.drop(['p1'],axis=1)\n",
    "x"
   ],
   "metadata": {
    "collapsed": false
   }
  },
  {
   "cell_type": "markdown",
   "source": [
    "## Dependannt & Independant variable selection"
   ],
   "metadata": {
    "collapsed": false
   }
  },
  {
   "cell_type": "code",
   "execution_count": 104,
   "outputs": [
    {
     "data": {
      "text/plain": "          tau1      tau2      tau3      tau4        p1        p2        p3  \\\n0     2.959060  3.079885  8.381025  9.780754  3.763085 -0.782604 -1.257395   \n1     9.304097  4.902524  3.047541  1.369357  5.067812 -1.940058 -1.872742   \n2     8.971707  8.848428  3.046479  1.214518  3.405158 -1.207456 -1.277210   \n3     0.716415  7.669600  4.486641  2.340563  3.963791 -1.027473 -1.938944   \n4     3.134112  7.608772  4.943759  9.857573  3.525811 -1.125531 -1.845975   \n...        ...       ...       ...       ...       ...       ...       ...   \n9995  2.930406  9.487627  2.376523  6.187797  3.343416 -0.658054 -1.449106   \n9996  3.392299  1.274827  2.954947  6.894759  4.349512 -1.663661 -0.952437   \n9997  2.364034  2.842030  8.776391  1.008906  4.299976 -1.380719 -0.943884   \n9998  9.631511  3.994398  2.757071  7.821347  2.514755 -0.966330 -0.649915   \n9999  6.530527  6.781790  4.349695  8.673138  3.492807 -1.390285 -1.532193   \n\n            p4        g1        g2        g3        g4  \n0    -1.723086  0.650456  0.859578  0.887445  0.958034  \n1    -1.255012  0.413441  0.862414  0.562139  0.781760  \n2    -0.920492  0.163041  0.766689  0.839444  0.109853  \n3    -0.997374  0.446209  0.976744  0.929381  0.362718  \n4    -0.554305  0.797110  0.455450  0.656947  0.820923  \n...        ...       ...       ...       ...       ...  \n9995 -1.236256  0.601709  0.779642  0.813512  0.608385  \n9996 -1.733414  0.502079  0.567242  0.285880  0.366120  \n9997 -1.975373  0.487838  0.986505  0.149286  0.145984  \n9998 -0.898510  0.365246  0.587558  0.889118  0.818391  \n9999 -0.570329  0.073056  0.505441  0.378761  0.942631  \n\n[10000 rows x 12 columns]",
      "text/html": "<div>\n<style scoped>\n    .dataframe tbody tr th:only-of-type {\n        vertical-align: middle;\n    }\n\n    .dataframe tbody tr th {\n        vertical-align: top;\n    }\n\n    .dataframe thead th {\n        text-align: right;\n    }\n</style>\n<table border=\"1\" class=\"dataframe\">\n  <thead>\n    <tr style=\"text-align: right;\">\n      <th></th>\n      <th>tau1</th>\n      <th>tau2</th>\n      <th>tau3</th>\n      <th>tau4</th>\n      <th>p1</th>\n      <th>p2</th>\n      <th>p3</th>\n      <th>p4</th>\n      <th>g1</th>\n      <th>g2</th>\n      <th>g3</th>\n      <th>g4</th>\n    </tr>\n  </thead>\n  <tbody>\n    <tr>\n      <th>0</th>\n      <td>2.959060</td>\n      <td>3.079885</td>\n      <td>8.381025</td>\n      <td>9.780754</td>\n      <td>3.763085</td>\n      <td>-0.782604</td>\n      <td>-1.257395</td>\n      <td>-1.723086</td>\n      <td>0.650456</td>\n      <td>0.859578</td>\n      <td>0.887445</td>\n      <td>0.958034</td>\n    </tr>\n    <tr>\n      <th>1</th>\n      <td>9.304097</td>\n      <td>4.902524</td>\n      <td>3.047541</td>\n      <td>1.369357</td>\n      <td>5.067812</td>\n      <td>-1.940058</td>\n      <td>-1.872742</td>\n      <td>-1.255012</td>\n      <td>0.413441</td>\n      <td>0.862414</td>\n      <td>0.562139</td>\n      <td>0.781760</td>\n    </tr>\n    <tr>\n      <th>2</th>\n      <td>8.971707</td>\n      <td>8.848428</td>\n      <td>3.046479</td>\n      <td>1.214518</td>\n      <td>3.405158</td>\n      <td>-1.207456</td>\n      <td>-1.277210</td>\n      <td>-0.920492</td>\n      <td>0.163041</td>\n      <td>0.766689</td>\n      <td>0.839444</td>\n      <td>0.109853</td>\n    </tr>\n    <tr>\n      <th>3</th>\n      <td>0.716415</td>\n      <td>7.669600</td>\n      <td>4.486641</td>\n      <td>2.340563</td>\n      <td>3.963791</td>\n      <td>-1.027473</td>\n      <td>-1.938944</td>\n      <td>-0.997374</td>\n      <td>0.446209</td>\n      <td>0.976744</td>\n      <td>0.929381</td>\n      <td>0.362718</td>\n    </tr>\n    <tr>\n      <th>4</th>\n      <td>3.134112</td>\n      <td>7.608772</td>\n      <td>4.943759</td>\n      <td>9.857573</td>\n      <td>3.525811</td>\n      <td>-1.125531</td>\n      <td>-1.845975</td>\n      <td>-0.554305</td>\n      <td>0.797110</td>\n      <td>0.455450</td>\n      <td>0.656947</td>\n      <td>0.820923</td>\n    </tr>\n    <tr>\n      <th>...</th>\n      <td>...</td>\n      <td>...</td>\n      <td>...</td>\n      <td>...</td>\n      <td>...</td>\n      <td>...</td>\n      <td>...</td>\n      <td>...</td>\n      <td>...</td>\n      <td>...</td>\n      <td>...</td>\n      <td>...</td>\n    </tr>\n    <tr>\n      <th>9995</th>\n      <td>2.930406</td>\n      <td>9.487627</td>\n      <td>2.376523</td>\n      <td>6.187797</td>\n      <td>3.343416</td>\n      <td>-0.658054</td>\n      <td>-1.449106</td>\n      <td>-1.236256</td>\n      <td>0.601709</td>\n      <td>0.779642</td>\n      <td>0.813512</td>\n      <td>0.608385</td>\n    </tr>\n    <tr>\n      <th>9996</th>\n      <td>3.392299</td>\n      <td>1.274827</td>\n      <td>2.954947</td>\n      <td>6.894759</td>\n      <td>4.349512</td>\n      <td>-1.663661</td>\n      <td>-0.952437</td>\n      <td>-1.733414</td>\n      <td>0.502079</td>\n      <td>0.567242</td>\n      <td>0.285880</td>\n      <td>0.366120</td>\n    </tr>\n    <tr>\n      <th>9997</th>\n      <td>2.364034</td>\n      <td>2.842030</td>\n      <td>8.776391</td>\n      <td>1.008906</td>\n      <td>4.299976</td>\n      <td>-1.380719</td>\n      <td>-0.943884</td>\n      <td>-1.975373</td>\n      <td>0.487838</td>\n      <td>0.986505</td>\n      <td>0.149286</td>\n      <td>0.145984</td>\n    </tr>\n    <tr>\n      <th>9998</th>\n      <td>9.631511</td>\n      <td>3.994398</td>\n      <td>2.757071</td>\n      <td>7.821347</td>\n      <td>2.514755</td>\n      <td>-0.966330</td>\n      <td>-0.649915</td>\n      <td>-0.898510</td>\n      <td>0.365246</td>\n      <td>0.587558</td>\n      <td>0.889118</td>\n      <td>0.818391</td>\n    </tr>\n    <tr>\n      <th>9999</th>\n      <td>6.530527</td>\n      <td>6.781790</td>\n      <td>4.349695</td>\n      <td>8.673138</td>\n      <td>3.492807</td>\n      <td>-1.390285</td>\n      <td>-1.532193</td>\n      <td>-0.570329</td>\n      <td>0.073056</td>\n      <td>0.505441</td>\n      <td>0.378761</td>\n      <td>0.942631</td>\n    </tr>\n  </tbody>\n</table>\n<p>10000 rows × 12 columns</p>\n</div>"
     },
     "execution_count": 104,
     "metadata": {},
     "output_type": "execute_result"
    }
   ],
   "source": [
    "y=df['stabf']\n",
    "dic={'stable':1,'unstable':0}\n",
    "y=y.map(dic)\n",
    "x=df.drop(['stabf','stab'],axis=1)\n",
    "x"
   ],
   "metadata": {
    "collapsed": false
   }
  },
  {
   "cell_type": "code",
   "execution_count": 105,
   "outputs": [
    {
     "data": {
      "text/plain": "0       0\n1       1\n2       0\n3       0\n4       0\n       ..\n9995    0\n9996    1\n9997    1\n9998    0\n9999    0\nName: stabf, Length: 10000, dtype: int64"
     },
     "execution_count": 105,
     "metadata": {},
     "output_type": "execute_result"
    }
   ],
   "source": [
    "y"
   ],
   "metadata": {
    "collapsed": false
   }
  },
  {
   "cell_type": "markdown",
   "source": [
    "### Scaling..."
   ],
   "metadata": {
    "collapsed": false
   }
  },
  {
   "cell_type": "code",
   "execution_count": 106,
   "outputs": [],
   "source": [
    "scaler = StandardScaler()\n",
    "x=scaler.fit_transform(x)\n",
    "x_train,x_test,y_train,y_test = train_test_split(x,y,test_size=0.2,random_state=1)"
   ],
   "metadata": {
    "collapsed": false
   }
  },
  {
   "cell_type": "markdown",
   "source": [
    "## Random forest"
   ],
   "metadata": {
    "collapsed": false
   }
  },
  {
   "cell_type": "code",
   "execution_count": 107,
   "outputs": [],
   "source": [
    "rf = RandomForestClassifier(n_jobs=-1,random_state=1)\n",
    "rf.fit(x_train, y_train)\n",
    "y_pred_rf = rf.predict(x_test)"
   ],
   "metadata": {
    "collapsed": false
   }
  },
  {
   "cell_type": "code",
   "execution_count": 108,
   "outputs": [
    {
     "data": {
      "text/plain": "0.9295"
     },
     "execution_count": 108,
     "metadata": {},
     "output_type": "execute_result"
    }
   ],
   "source": [
    "accuracy_score(y_test,y_pred_rf)"
   ],
   "metadata": {
    "collapsed": false
   }
  },
  {
   "cell_type": "code",
   "execution_count": 109,
   "outputs": [
    {
     "data": {
      "text/plain": "0.9295"
     },
     "execution_count": 109,
     "metadata": {},
     "output_type": "execute_result"
    }
   ],
   "source": [
    "rf.score(x_test,y_test)"
   ],
   "metadata": {
    "collapsed": false
   }
  },
  {
   "cell_type": "markdown",
   "source": [
    "## XGBoost"
   ],
   "metadata": {
    "collapsed": false
   }
  },
  {
   "cell_type": "code",
   "execution_count": 110,
   "outputs": [],
   "source": [
    "xgb = XGBClassifier()\n",
    "xgb.fit(x_train, y_train)\n",
    "y_pred_xg = rf.predict(x_test)"
   ],
   "metadata": {
    "collapsed": false
   }
  },
  {
   "cell_type": "code",
   "execution_count": 111,
   "outputs": [
    {
     "data": {
      "text/plain": "0.9455"
     },
     "execution_count": 111,
     "metadata": {},
     "output_type": "execute_result"
    }
   ],
   "source": [
    "xgb.score(x_test,y_test)"
   ],
   "metadata": {
    "collapsed": false
   }
  },
  {
   "cell_type": "markdown",
   "source": [
    "## ExtraTreesClassifier"
   ],
   "metadata": {
    "collapsed": false
   }
  },
  {
   "cell_type": "code",
   "execution_count": 112,
   "outputs": [
    {
     "data": {
      "text/plain": "0.9175"
     },
     "execution_count": 112,
     "metadata": {},
     "output_type": "execute_result"
    }
   ],
   "source": [
    "xtra= ExtraTreesClassifier()\n",
    "xtra.fit(x_train, y_train)\n",
    "xtra.score(x_test,y_test)"
   ],
   "metadata": {
    "collapsed": false
   }
  },
  {
   "cell_type": "markdown",
   "source": [
    "## Lightgbm"
   ],
   "metadata": {
    "collapsed": false
   }
  },
  {
   "cell_type": "code",
   "execution_count": 113,
   "outputs": [
    {
     "data": {
      "text/plain": "0.94"
     },
     "execution_count": 113,
     "metadata": {},
     "output_type": "execute_result"
    }
   ],
   "source": [
    "lgbm = LGBMClassifier()\n",
    "lgbm.fit(x_train, y_train)\n",
    "lgbm.score(x_test,y_test)"
   ],
   "metadata": {
    "collapsed": false
   }
  },
  {
   "cell_type": "markdown",
   "source": [
    "## Hyperparameter tuning for Random forest"
   ],
   "metadata": {
    "collapsed": false
   }
  },
  {
   "cell_type": "code",
   "execution_count": 114,
   "outputs": [
    {
     "name": "stdout",
     "output_type": "stream",
     "text": [
      "Fitting 5 folds for each of 10 candidates, totalling 50 fits\n"
     ]
    },
    {
     "name": "stderr",
     "output_type": "stream",
     "text": [
      "D:\\pycharm Virtual py3.10\\lib\\site-packages\\sklearn\\model_selection\\_validation.py:378: FitFailedWarning: \n",
      "5 fits failed out of a total of 50.\n",
      "The score on these train-test partitions for these parameters will be set to nan.\n",
      "If these failures are not expected, you can try to debug them by setting error_score='raise'.\n",
      "\n",
      "Below are more details about the failures:\n",
      "--------------------------------------------------------------------------------\n",
      "5 fits failed with the following error:\n",
      "Traceback (most recent call last):\n",
      "  File \"D:\\pycharm Virtual py3.10\\lib\\site-packages\\sklearn\\model_selection\\_validation.py\", line 686, in _fit_and_score\n",
      "    estimator.fit(X_train, y_train, **fit_params)\n",
      "  File \"D:\\pycharm Virtual py3.10\\lib\\site-packages\\sklearn\\ensemble\\_forest.py\", line 476, in fit\n",
      "    trees = Parallel(\n",
      "  File \"D:\\pycharm Virtual py3.10\\lib\\site-packages\\joblib\\parallel.py\", line 1085, in __call__\n",
      "    if self.dispatch_one_batch(iterator):\n",
      "  File \"D:\\pycharm Virtual py3.10\\lib\\site-packages\\joblib\\parallel.py\", line 901, in dispatch_one_batch\n",
      "    self._dispatch(tasks)\n",
      "  File \"D:\\pycharm Virtual py3.10\\lib\\site-packages\\joblib\\parallel.py\", line 819, in _dispatch\n",
      "    job = self._backend.apply_async(batch, callback=cb)\n",
      "  File \"D:\\pycharm Virtual py3.10\\lib\\site-packages\\joblib\\_parallel_backends.py\", line 208, in apply_async\n",
      "    result = ImmediateResult(func)\n",
      "  File \"D:\\pycharm Virtual py3.10\\lib\\site-packages\\joblib\\_parallel_backends.py\", line 597, in __init__\n",
      "    self.results = batch()\n",
      "  File \"D:\\pycharm Virtual py3.10\\lib\\site-packages\\joblib\\parallel.py\", line 288, in __call__\n",
      "    return [func(*args, **kwargs)\n",
      "  File \"D:\\pycharm Virtual py3.10\\lib\\site-packages\\joblib\\parallel.py\", line 288, in <listcomp>\n",
      "    return [func(*args, **kwargs)\n",
      "  File \"D:\\pycharm Virtual py3.10\\lib\\site-packages\\sklearn\\utils\\fixes.py\", line 117, in __call__\n",
      "    return self.function(*args, **kwargs)\n",
      "  File \"D:\\pycharm Virtual py3.10\\lib\\site-packages\\sklearn\\ensemble\\_forest.py\", line 191, in _parallel_build_trees\n",
      "    tree.fit(X, y, sample_weight=sample_weight, check_input=False)\n",
      "  File \"D:\\pycharm Virtual py3.10\\lib\\site-packages\\sklearn\\tree\\_classes.py\", line 969, in fit\n",
      "    super().fit(\n",
      "  File \"D:\\pycharm Virtual py3.10\\lib\\site-packages\\sklearn\\tree\\_classes.py\", line 247, in fit\n",
      "    check_scalar(\n",
      "  File \"D:\\pycharm Virtual py3.10\\lib\\site-packages\\sklearn\\utils\\validation.py\", line 1480, in check_scalar\n",
      "    raise ValueError(\n",
      "ValueError: min_samples_leaf == 0, must be >= 1.\n",
      "\n",
      "  warnings.warn(some_fits_failed_message, FitFailedWarning)\n",
      "D:\\pycharm Virtual py3.10\\lib\\site-packages\\sklearn\\model_selection\\_search.py:953: UserWarning: One or more of the test scores are non-finite: [0.904375      nan 0.90975  0.92625  0.920625 0.9245   0.91025  0.911\n",
      " 0.925    0.918375]\n",
      "  warnings.warn(\n"
     ]
    },
    {
     "data": {
      "text/plain": "{'max_features': None,\n 'min_samples_leaf': 5,\n 'min_samples_split': 3,\n 'n_estimators': 518}"
     },
     "execution_count": 114,
     "metadata": {},
     "output_type": "execute_result"
    }
   ],
   "source": [
    "params={'n_estimators':randint(50,1000),\n",
    "        'min_samples_split': randint(1,10),\n",
    "        'min_samples_leaf': randint(0,10),\n",
    "        'max_features':['log2','auto',None]\n",
    "        }\n",
    "rsv=RandomizedSearchCV(xtra,cv=5,n_iter=10,scoring='accuracy',n_jobs=-1,verbose=1,random_state=1,param_distributions=params)\n",
    "rsv.fit(x_train,y_train)\n",
    "rsv.best_params_"
   ],
   "metadata": {
    "collapsed": false
   }
  },
  {
   "cell_type": "code",
   "execution_count": 115,
   "outputs": [
    {
     "data": {
      "text/plain": "0.9225"
     },
     "execution_count": 115,
     "metadata": {},
     "output_type": "execute_result"
    }
   ],
   "source": [
    "xtra= ExtraTreesClassifier(min_samples_leaf=5,min_samples_split=3,n_estimators=518)\n",
    "xtra.fit(x_train, y_train)\n",
    "xtra.score(x_test,y_test)"
   ],
   "metadata": {
    "collapsed": false
   }
  },
  {
   "cell_type": "markdown",
   "source": [
    "### Feature importance"
   ],
   "metadata": {
    "collapsed": false
   }
  },
  {
   "cell_type": "code",
   "execution_count": 116,
   "outputs": [
    {
     "data": {
      "text/plain": "array([0.13629796, 0.14087574, 0.1325567 , 0.13588741, 0.01149374,\n       0.01478242, 0.01487213, 0.01455539, 0.09193845, 0.10154548,\n       0.10552387, 0.0996707 ])"
     },
     "execution_count": 116,
     "metadata": {},
     "output_type": "execute_result"
    }
   ],
   "source": [
    "xtra.feature_importances_"
   ],
   "metadata": {
    "collapsed": false
   }
  },
  {
   "cell_type": "markdown",
   "source": [
    "tau1 , tau 2 is the highest"
   ],
   "metadata": {
    "collapsed": false
   }
  },
  {
   "cell_type": "markdown",
   "source": [
    "## I did't have enough time to finish :("
   ],
   "metadata": {
    "collapsed": false
   }
  },
  {
   "cell_type": "code",
   "execution_count": 116,
   "outputs": [],
   "source": [],
   "metadata": {
    "collapsed": false
   }
  }
 ],
 "metadata": {
  "kernelspec": {
   "display_name": "Python 3",
   "language": "python",
   "name": "python3"
  },
  "language_info": {
   "codemirror_mode": {
    "name": "ipython",
    "version": 2
   },
   "file_extension": ".py",
   "mimetype": "text/x-python",
   "name": "python",
   "nbconvert_exporter": "python",
   "pygments_lexer": "ipython2",
   "version": "2.7.6"
  }
 },
 "nbformat": 4,
 "nbformat_minor": 0
}
